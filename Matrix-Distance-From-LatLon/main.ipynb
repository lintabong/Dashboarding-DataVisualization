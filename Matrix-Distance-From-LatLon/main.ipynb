{
  "nbformat": 4,
  "nbformat_minor": 0,
  "metadata": {
    "colab": {
      "name": "main.ipynb",
      "provenance": [],
      "authorship_tag": "ABX9TyOWtvjEKAjGNQu+LX340ndP",
      "include_colab_link": true
    },
    "kernelspec": {
      "name": "python3",
      "display_name": "Python 3"
    },
    "language_info": {
      "name": "python"
    }
  },
  "cells": [
    {
      "cell_type": "markdown",
      "metadata": {
        "id": "view-in-github",
        "colab_type": "text"
      },
      "source": [
        "<a href=\"https://colab.research.google.com/github/lintabong/Dashboarding-and-Data-Visualization/blob/main/Matrix-Distance-From-LatLon/main.ipynb\" target=\"_parent\"><img src=\"https://colab.research.google.com/assets/colab-badge.svg\" alt=\"Open In Colab\"/></a>"
      ]
    },
    {
      "cell_type": "code",
      "execution_count": null,
      "metadata": {
        "id": "u5vWB2xOHns_"
      },
      "outputs": [],
      "source": [
        "!pip install openpyxl\n",
        "!pip install geopy\n",
        "!pip install math\n",
        "!pip install numpy"
      ]
    },
    {
      "cell_type": "code",
      "source": [
        "import math\n",
        "import openpyxl         as xcl\n",
        "import numpy            as np\n",
        "import geopy.distance   as geo\n",
        "from google.colab       import drive\n",
        "\n",
        "drive.mount('/content/drive')"
      ],
      "metadata": {
        "colab": {
          "base_uri": "https://localhost:8080/"
        },
        "id": "Mk99KNGcH7-k",
        "outputId": "88a16998-26e2-460c-9cca-960419a8130e"
      },
      "execution_count": null,
      "outputs": [
        {
          "output_type": "stream",
          "name": "stdout",
          "text": [
            "Mounted at /content/drive\n"
          ]
        }
      ]
    },
    {
      "cell_type": "code",
      "source": [
        "path = '/content/drive/MyDrive/00_YOUTUBE/01/'\n",
        "\n",
        "workbook    = xcl.load_workbook(path + 'tabel.xlsx')\n",
        "sheet       = workbook.active\n",
        "\n",
        "print(workbook.sheetnames)\n",
        "\n",
        "place           = {}\n",
        "name, lat, lon  = '', 0, 0\n",
        "values          = ['B', 'D', 'E']\n",
        "\n",
        "for i in range(3, 11):\n",
        "    arr = []\n",
        "    for o, val in enumerate(values):\n",
        "        arr.append(str(val) + str(i))\n",
        "\n",
        "    name = sheet[arr[0]].value\n",
        "    lat  = sheet[arr[1]].value\n",
        "    log  = sheet[arr[2]].value\n",
        "\n",
        "    place[name] = (lat, lon)\n",
        "\n",
        "print(place)"
      ],
      "metadata": {
        "colab": {
          "base_uri": "https://localhost:8080/"
        },
        "id": "s6MmYeMYJhc2",
        "outputId": "690d059b-5541-4647-da49-26a72f88492a"
      },
      "execution_count": null,
      "outputs": [
        {
          "output_type": "stream",
          "name": "stdout",
          "text": [
            "['latlon']\n",
            "{'Taman Balekambang Surakarta': (-7.55151296671099, 0), 'RSUD Moewardi': (-7.5562777724881, 0), 'Kebun Binatang Jurug': (-7.56104252570266, 0), 'Alun-Alun Kidul Surakarta': (-7.58044133474522, 0), 'De Tjolomadoe': (-7.53212728391324, 0), 'Grup 2 Kopassus': (-7.55748339043393, 0), 'Umbul Pengging': (-7.55101687361919, 0), 'Tugu Lilin': (-7.56480064794458, 0)}\n"
          ]
        }
      ]
    },
    {
      "cell_type": "code",
      "source": [
        "matrix_distance = np.zeros([len(place), len(place)])\n",
        "\n",
        "print(matrix_distance)"
      ],
      "metadata": {
        "colab": {
          "base_uri": "https://localhost:8080/"
        },
        "id": "7pcnUMa6Kknq",
        "outputId": "0ca8a58d-9d48-4504-9797-efc4a41a5c20"
      },
      "execution_count": null,
      "outputs": [
        {
          "output_type": "stream",
          "name": "stdout",
          "text": [
            "[[0. 0. 0. 0. 0. 0. 0. 0.]\n",
            " [0. 0. 0. 0. 0. 0. 0. 0.]\n",
            " [0. 0. 0. 0. 0. 0. 0. 0.]\n",
            " [0. 0. 0. 0. 0. 0. 0. 0.]\n",
            " [0. 0. 0. 0. 0. 0. 0. 0.]\n",
            " [0. 0. 0. 0. 0. 0. 0. 0.]\n",
            " [0. 0. 0. 0. 0. 0. 0. 0.]\n",
            " [0. 0. 0. 0. 0. 0. 0. 0.]]\n"
          ]
        }
      ]
    },
    {
      "cell_type": "code",
      "source": [
        "y = 0\n",
        "for i, o in place.items():\n",
        "    x = 0\n",
        "    for city, coord in place.items():\n",
        "        distance = geo.distance(place[i], coord).m\n",
        "        matrix_distance[x, y] = int(distance)\n",
        "        x += 1\n",
        "    y += 1\n",
        "\n",
        "print(matrix_distance)"
      ],
      "metadata": {
        "colab": {
          "base_uri": "https://localhost:8080/"
        },
        "id": "eM1R1wvGK4MX",
        "outputId": "7d7a045c-b3fc-4c1a-950c-3b51459abe40"
      },
      "execution_count": null,
      "outputs": [
        {
          "output_type": "stream",
          "name": "stdout",
          "text": [
            "[[   0.  526. 1053. 3199. 2143.  660.   54. 1469.]\n",
            " [ 526.    0.  526. 2672. 2670.  133.  581.  942.]\n",
            " [1053.  526.    0. 2145. 3197.  393. 1108.  415.]\n",
            " [3199. 2672. 2145.    0. 5343. 2539. 3254. 1729.]\n",
            " [2143. 2670. 3197. 5343.    0. 2804. 2089. 3613.]\n",
            " [ 660.  133.  393. 2539. 2804.    0.  715.  809.]\n",
            " [  54.  581. 1108. 3254. 2089.  715.    0. 1524.]\n",
            " [1469.  942.  415. 1729. 3613.  809. 1524.    0.]]\n"
          ]
        }
      ]
    },
    {
      "cell_type": "code",
      "source": [
        "export_wb   = xcl.Workbook()\n",
        "sh_export   = export_wb.active"
      ],
      "metadata": {
        "id": "-rfuaDZKL6fj"
      },
      "execution_count": null,
      "outputs": []
    },
    {
      "cell_type": "code",
      "source": [
        "a     = []\n",
        "char  = 65\n",
        "for i in range(char, char + len(place)):\n",
        "    a.append(chr(i))\n",
        "print(a)"
      ],
      "metadata": {
        "colab": {
          "base_uri": "https://localhost:8080/"
        },
        "id": "_4GoUWW_L5xa",
        "outputId": "7779eb97-dab1-4dfb-9fb5-9169b29cb21c"
      },
      "execution_count": null,
      "outputs": [
        {
          "output_type": "stream",
          "name": "stdout",
          "text": [
            "['A', 'B', 'C', 'D', 'E', 'F', 'G', 'H']\n"
          ]
        }
      ]
    },
    {
      "cell_type": "code",
      "source": [
        "for i, o in enumerate(a):\n",
        "    for p in range(1, 9):\n",
        "        sh_export[str(o) + str(p)] = matrix_distance[i, p-1]\n",
        "\n",
        "export_wb.save(path + 'export.xlsx')"
      ],
      "metadata": {
        "id": "boHPNI3UMKv8"
      },
      "execution_count": null,
      "outputs": []
    }
  ]
}